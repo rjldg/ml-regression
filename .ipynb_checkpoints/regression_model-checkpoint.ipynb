{
 "cells": [
  {
   "cell_type": "code",
   "execution_count": 1,
   "id": "2b1cb347-37bc-4df1-b050-d893ff273ee9",
   "metadata": {},
   "outputs": [],
   "source": [
    "import pandas as pd\n",
    "import seaborn as sns\n",
    "import numpy as np"
   ]
  },
  {
   "cell_type": "code",
   "execution_count": 4,
   "id": "19e03bb6-3b4b-4903-b5b9-0081eaed28ab",
   "metadata": {},
   "outputs": [
    {
     "data": {
      "text/plain": [
       "['anagrams',\n",
       " 'anscombe',\n",
       " 'attention',\n",
       " 'brain_networks',\n",
       " 'car_crashes',\n",
       " 'diamonds',\n",
       " 'dots',\n",
       " 'dowjones',\n",
       " 'exercise',\n",
       " 'flights',\n",
       " 'fmri',\n",
       " 'geyser',\n",
       " 'glue',\n",
       " 'healthexp',\n",
       " 'iris',\n",
       " 'mpg',\n",
       " 'penguins',\n",
       " 'planets',\n",
       " 'seaice',\n",
       " 'taxis',\n",
       " 'tips',\n",
       " 'titanic']"
      ]
     },
     "execution_count": 4,
     "metadata": {},
     "output_type": "execute_result"
    }
   ],
   "source": [
    "sns.get_dataset_names()"
   ]
  },
  {
   "cell_type": "code",
   "execution_count": 6,
   "id": "8707a865-f22a-488d-b21e-40d4ddb2e576",
   "metadata": {},
   "outputs": [
    {
     "data": {
      "text/html": [
       "<div>\n",
       "<style scoped>\n",
       "    .dataframe tbody tr th:only-of-type {\n",
       "        vertical-align: middle;\n",
       "    }\n",
       "\n",
       "    .dataframe tbody tr th {\n",
       "        vertical-align: top;\n",
       "    }\n",
       "\n",
       "    .dataframe thead th {\n",
       "        text-align: right;\n",
       "    }\n",
       "</style>\n",
       "<table border=\"1\" class=\"dataframe\">\n",
       "  <thead>\n",
       "    <tr style=\"text-align: right;\">\n",
       "      <th></th>\n",
       "      <th>total_bill</th>\n",
       "      <th>tip</th>\n",
       "      <th>sex</th>\n",
       "      <th>smoker</th>\n",
       "      <th>day</th>\n",
       "      <th>time</th>\n",
       "      <th>size</th>\n",
       "    </tr>\n",
       "  </thead>\n",
       "  <tbody>\n",
       "    <tr>\n",
       "      <th>0</th>\n",
       "      <td>16.99</td>\n",
       "      <td>1.01</td>\n",
       "      <td>Female</td>\n",
       "      <td>No</td>\n",
       "      <td>Sun</td>\n",
       "      <td>Dinner</td>\n",
       "      <td>2</td>\n",
       "    </tr>\n",
       "    <tr>\n",
       "      <th>1</th>\n",
       "      <td>10.34</td>\n",
       "      <td>1.66</td>\n",
       "      <td>Male</td>\n",
       "      <td>No</td>\n",
       "      <td>Sun</td>\n",
       "      <td>Dinner</td>\n",
       "      <td>3</td>\n",
       "    </tr>\n",
       "    <tr>\n",
       "      <th>2</th>\n",
       "      <td>21.01</td>\n",
       "      <td>3.50</td>\n",
       "      <td>Male</td>\n",
       "      <td>No</td>\n",
       "      <td>Sun</td>\n",
       "      <td>Dinner</td>\n",
       "      <td>3</td>\n",
       "    </tr>\n",
       "    <tr>\n",
       "      <th>3</th>\n",
       "      <td>23.68</td>\n",
       "      <td>3.31</td>\n",
       "      <td>Male</td>\n",
       "      <td>No</td>\n",
       "      <td>Sun</td>\n",
       "      <td>Dinner</td>\n",
       "      <td>2</td>\n",
       "    </tr>\n",
       "    <tr>\n",
       "      <th>4</th>\n",
       "      <td>24.59</td>\n",
       "      <td>3.61</td>\n",
       "      <td>Female</td>\n",
       "      <td>No</td>\n",
       "      <td>Sun</td>\n",
       "      <td>Dinner</td>\n",
       "      <td>4</td>\n",
       "    </tr>\n",
       "  </tbody>\n",
       "</table>\n",
       "</div>"
      ],
      "text/plain": [
       "   total_bill   tip     sex smoker  day    time  size\n",
       "0       16.99  1.01  Female     No  Sun  Dinner     2\n",
       "1       10.34  1.66    Male     No  Sun  Dinner     3\n",
       "2       21.01  3.50    Male     No  Sun  Dinner     3\n",
       "3       23.68  3.31    Male     No  Sun  Dinner     2\n",
       "4       24.59  3.61  Female     No  Sun  Dinner     4"
      ]
     },
     "execution_count": 6,
     "metadata": {},
     "output_type": "execute_result"
    }
   ],
   "source": [
    "# load default dataset \"tips\"\n",
    "\n",
    "tips_df = sns.load_dataset(\"tips\");\n",
    "tips_df.head()"
   ]
  },
  {
   "cell_type": "code",
   "execution_count": 12,
   "id": "bfb7743f-3172-4b2c-825e-902741ee4900",
   "metadata": {},
   "outputs": [],
   "source": [
    "# divide dataset into \"feature\" and \"label\" sets or columns\n",
    "\n",
    "X = tips_df.drop(['tip'], axis=1)\n",
    "y = tips_df['tip']"
   ]
  },
  {
   "cell_type": "code",
   "execution_count": 19,
   "id": "7cebbe4d-e93a-424d-8f18-04db2d24b354",
   "metadata": {},
   "outputs": [
    {
     "data": {
      "text/html": [
       "<div>\n",
       "<style scoped>\n",
       "    .dataframe tbody tr th:only-of-type {\n",
       "        vertical-align: middle;\n",
       "    }\n",
       "\n",
       "    .dataframe tbody tr th {\n",
       "        vertical-align: top;\n",
       "    }\n",
       "\n",
       "    .dataframe thead th {\n",
       "        text-align: right;\n",
       "    }\n",
       "</style>\n",
       "<table border=\"1\" class=\"dataframe\">\n",
       "  <thead>\n",
       "    <tr style=\"text-align: right;\">\n",
       "      <th></th>\n",
       "      <th>total_bill</th>\n",
       "      <th>sex</th>\n",
       "      <th>smoker</th>\n",
       "      <th>day</th>\n",
       "      <th>time</th>\n",
       "      <th>size</th>\n",
       "    </tr>\n",
       "  </thead>\n",
       "  <tbody>\n",
       "    <tr>\n",
       "      <th>0</th>\n",
       "      <td>16.99</td>\n",
       "      <td>Female</td>\n",
       "      <td>No</td>\n",
       "      <td>Sun</td>\n",
       "      <td>Dinner</td>\n",
       "      <td>2</td>\n",
       "    </tr>\n",
       "    <tr>\n",
       "      <th>1</th>\n",
       "      <td>10.34</td>\n",
       "      <td>Male</td>\n",
       "      <td>No</td>\n",
       "      <td>Sun</td>\n",
       "      <td>Dinner</td>\n",
       "      <td>3</td>\n",
       "    </tr>\n",
       "    <tr>\n",
       "      <th>2</th>\n",
       "      <td>21.01</td>\n",
       "      <td>Male</td>\n",
       "      <td>No</td>\n",
       "      <td>Sun</td>\n",
       "      <td>Dinner</td>\n",
       "      <td>3</td>\n",
       "    </tr>\n",
       "    <tr>\n",
       "      <th>3</th>\n",
       "      <td>23.68</td>\n",
       "      <td>Male</td>\n",
       "      <td>No</td>\n",
       "      <td>Sun</td>\n",
       "      <td>Dinner</td>\n",
       "      <td>2</td>\n",
       "    </tr>\n",
       "    <tr>\n",
       "      <th>4</th>\n",
       "      <td>24.59</td>\n",
       "      <td>Female</td>\n",
       "      <td>No</td>\n",
       "      <td>Sun</td>\n",
       "      <td>Dinner</td>\n",
       "      <td>4</td>\n",
       "    </tr>\n",
       "  </tbody>\n",
       "</table>\n",
       "</div>"
      ],
      "text/plain": [
       "   total_bill     sex smoker  day    time  size\n",
       "0       16.99  Female     No  Sun  Dinner     2\n",
       "1       10.34    Male     No  Sun  Dinner     3\n",
       "2       21.01    Male     No  Sun  Dinner     3\n",
       "3       23.68    Male     No  Sun  Dinner     2\n",
       "4       24.59  Female     No  Sun  Dinner     4"
      ]
     },
     "execution_count": 19,
     "metadata": {},
     "output_type": "execute_result"
    }
   ],
   "source": [
    "# verify division of dataset for feature set\n",
    "\n",
    "X.head()\n"
   ]
  },
  {
   "cell_type": "code",
   "execution_count": 20,
   "id": "6311abd5-24fc-46f0-945c-14fd0c46d28d",
   "metadata": {},
   "outputs": [
    {
     "data": {
      "text/plain": [
       "0    1.01\n",
       "1    1.66\n",
       "2    3.50\n",
       "3    3.31\n",
       "4    3.61\n",
       "Name: tip, dtype: float64"
      ]
     },
     "execution_count": 20,
     "metadata": {},
     "output_type": "execute_result"
    }
   ],
   "source": [
    "# verify division of dataset for label set\n",
    "\n",
    "y.head()"
   ]
  },
  {
   "cell_type": "code",
   "execution_count": 24,
   "id": "9bb05db1-4ffa-4312-9619-2f06628f3758",
   "metadata": {},
   "outputs": [],
   "source": [
    "# drop categorical columns from the dataset\n",
    "\n",
    "X_num = X.drop([\"sex\", \"smoker\", \"day\", \"time\"], axis=1)"
   ]
  },
  {
   "cell_type": "code",
   "execution_count": 25,
   "id": "631b5452-f20c-4243-9f76-e8860e94b721",
   "metadata": {},
   "outputs": [
    {
     "data": {
      "text/html": [
       "<div>\n",
       "<style scoped>\n",
       "    .dataframe tbody tr th:only-of-type {\n",
       "        vertical-align: middle;\n",
       "    }\n",
       "\n",
       "    .dataframe tbody tr th {\n",
       "        vertical-align: top;\n",
       "    }\n",
       "\n",
       "    .dataframe thead th {\n",
       "        text-align: right;\n",
       "    }\n",
       "</style>\n",
       "<table border=\"1\" class=\"dataframe\">\n",
       "  <thead>\n",
       "    <tr style=\"text-align: right;\">\n",
       "      <th></th>\n",
       "      <th>total_bill</th>\n",
       "      <th>size</th>\n",
       "    </tr>\n",
       "  </thead>\n",
       "  <tbody>\n",
       "    <tr>\n",
       "      <th>0</th>\n",
       "      <td>16.99</td>\n",
       "      <td>2</td>\n",
       "    </tr>\n",
       "    <tr>\n",
       "      <th>1</th>\n",
       "      <td>10.34</td>\n",
       "      <td>3</td>\n",
       "    </tr>\n",
       "    <tr>\n",
       "      <th>2</th>\n",
       "      <td>21.01</td>\n",
       "      <td>3</td>\n",
       "    </tr>\n",
       "    <tr>\n",
       "      <th>3</th>\n",
       "      <td>23.68</td>\n",
       "      <td>2</td>\n",
       "    </tr>\n",
       "    <tr>\n",
       "      <th>4</th>\n",
       "      <td>24.59</td>\n",
       "      <td>4</td>\n",
       "    </tr>\n",
       "  </tbody>\n",
       "</table>\n",
       "</div>"
      ],
      "text/plain": [
       "   total_bill  size\n",
       "0       16.99     2\n",
       "1       10.34     3\n",
       "2       21.01     3\n",
       "3       23.68     2\n",
       "4       24.59     4"
      ]
     },
     "execution_count": 25,
     "metadata": {},
     "output_type": "execute_result"
    }
   ],
   "source": [
    "X_num.head()"
   ]
  },
  {
   "cell_type": "code",
   "execution_count": 27,
   "id": "06403937-3323-4e7d-b496-cfedfd7a09ba",
   "metadata": {},
   "outputs": [],
   "source": [
    "# isolate categorical columns from dataset\n",
    "\n",
    "X_cat = X.filter([\"sex\", \"smoker\", \"day\", \"time\"])"
   ]
  },
  {
   "cell_type": "code",
   "execution_count": 29,
   "id": "86cc13c0-b9fa-460f-a6f1-5471e17797c8",
   "metadata": {},
   "outputs": [
    {
     "data": {
      "text/html": [
       "<div>\n",
       "<style scoped>\n",
       "    .dataframe tbody tr th:only-of-type {\n",
       "        vertical-align: middle;\n",
       "    }\n",
       "\n",
       "    .dataframe tbody tr th {\n",
       "        vertical-align: top;\n",
       "    }\n",
       "\n",
       "    .dataframe thead th {\n",
       "        text-align: right;\n",
       "    }\n",
       "</style>\n",
       "<table border=\"1\" class=\"dataframe\">\n",
       "  <thead>\n",
       "    <tr style=\"text-align: right;\">\n",
       "      <th></th>\n",
       "      <th>sex</th>\n",
       "      <th>smoker</th>\n",
       "      <th>day</th>\n",
       "      <th>time</th>\n",
       "    </tr>\n",
       "  </thead>\n",
       "  <tbody>\n",
       "    <tr>\n",
       "      <th>0</th>\n",
       "      <td>Female</td>\n",
       "      <td>No</td>\n",
       "      <td>Sun</td>\n",
       "      <td>Dinner</td>\n",
       "    </tr>\n",
       "    <tr>\n",
       "      <th>1</th>\n",
       "      <td>Male</td>\n",
       "      <td>No</td>\n",
       "      <td>Sun</td>\n",
       "      <td>Dinner</td>\n",
       "    </tr>\n",
       "    <tr>\n",
       "      <th>2</th>\n",
       "      <td>Male</td>\n",
       "      <td>No</td>\n",
       "      <td>Sun</td>\n",
       "      <td>Dinner</td>\n",
       "    </tr>\n",
       "    <tr>\n",
       "      <th>3</th>\n",
       "      <td>Male</td>\n",
       "      <td>No</td>\n",
       "      <td>Sun</td>\n",
       "      <td>Dinner</td>\n",
       "    </tr>\n",
       "    <tr>\n",
       "      <th>4</th>\n",
       "      <td>Female</td>\n",
       "      <td>No</td>\n",
       "      <td>Sun</td>\n",
       "      <td>Dinner</td>\n",
       "    </tr>\n",
       "  </tbody>\n",
       "</table>\n",
       "</div>"
      ],
      "text/plain": [
       "      sex smoker  day    time\n",
       "0  Female     No  Sun  Dinner\n",
       "1    Male     No  Sun  Dinner\n",
       "2    Male     No  Sun  Dinner\n",
       "3    Male     No  Sun  Dinner\n",
       "4  Female     No  Sun  Dinner"
      ]
     },
     "execution_count": 29,
     "metadata": {},
     "output_type": "execute_result"
    }
   ],
   "source": [
    "X_cat.head()"
   ]
  },
  {
   "cell_type": "code",
   "execution_count": 34,
   "id": "2617d93e-0bb0-4ec0-aff3-d774185a1ecc",
   "metadata": {},
   "outputs": [],
   "source": [
    "# convert categorical columns into one-hot encoded columns\n",
    "\n",
    "X_cat_num = pd.get_dummies(X_cat, drop_first=True)"
   ]
  },
  {
   "cell_type": "code",
   "execution_count": 35,
   "id": "d85a207c-27e4-48f3-9fc1-22463f4ba880",
   "metadata": {},
   "outputs": [
    {
     "data": {
      "text/html": [
       "<div>\n",
       "<style scoped>\n",
       "    .dataframe tbody tr th:only-of-type {\n",
       "        vertical-align: middle;\n",
       "    }\n",
       "\n",
       "    .dataframe tbody tr th {\n",
       "        vertical-align: top;\n",
       "    }\n",
       "\n",
       "    .dataframe thead th {\n",
       "        text-align: right;\n",
       "    }\n",
       "</style>\n",
       "<table border=\"1\" class=\"dataframe\">\n",
       "  <thead>\n",
       "    <tr style=\"text-align: right;\">\n",
       "      <th></th>\n",
       "      <th>sex_Female</th>\n",
       "      <th>smoker_No</th>\n",
       "      <th>day_Fri</th>\n",
       "      <th>day_Sat</th>\n",
       "      <th>day_Sun</th>\n",
       "      <th>time_Dinner</th>\n",
       "    </tr>\n",
       "  </thead>\n",
       "  <tbody>\n",
       "    <tr>\n",
       "      <th>0</th>\n",
       "      <td>True</td>\n",
       "      <td>True</td>\n",
       "      <td>False</td>\n",
       "      <td>False</td>\n",
       "      <td>True</td>\n",
       "      <td>True</td>\n",
       "    </tr>\n",
       "    <tr>\n",
       "      <th>1</th>\n",
       "      <td>False</td>\n",
       "      <td>True</td>\n",
       "      <td>False</td>\n",
       "      <td>False</td>\n",
       "      <td>True</td>\n",
       "      <td>True</td>\n",
       "    </tr>\n",
       "    <tr>\n",
       "      <th>2</th>\n",
       "      <td>False</td>\n",
       "      <td>True</td>\n",
       "      <td>False</td>\n",
       "      <td>False</td>\n",
       "      <td>True</td>\n",
       "      <td>True</td>\n",
       "    </tr>\n",
       "    <tr>\n",
       "      <th>3</th>\n",
       "      <td>False</td>\n",
       "      <td>True</td>\n",
       "      <td>False</td>\n",
       "      <td>False</td>\n",
       "      <td>True</td>\n",
       "      <td>True</td>\n",
       "    </tr>\n",
       "    <tr>\n",
       "      <th>4</th>\n",
       "      <td>True</td>\n",
       "      <td>True</td>\n",
       "      <td>False</td>\n",
       "      <td>False</td>\n",
       "      <td>True</td>\n",
       "      <td>True</td>\n",
       "    </tr>\n",
       "  </tbody>\n",
       "</table>\n",
       "</div>"
      ],
      "text/plain": [
       "   sex_Female  smoker_No  day_Fri  day_Sat  day_Sun  time_Dinner\n",
       "0        True       True    False    False     True         True\n",
       "1       False       True    False    False     True         True\n",
       "2       False       True    False    False     True         True\n",
       "3       False       True    False    False     True         True\n",
       "4        True       True    False    False     True         True"
      ]
     },
     "execution_count": 35,
     "metadata": {},
     "output_type": "execute_result"
    }
   ],
   "source": [
    "X_cat_num.head()"
   ]
  },
  {
   "cell_type": "code",
   "execution_count": 37,
   "id": "590b460f-40b1-4223-9a87-8e626347ec38",
   "metadata": {},
   "outputs": [],
   "source": [
    "# join one-hoted encoded with X_numabs\n",
    "\n",
    "X_processed = pd.concat([X_num, X_cat_num], axis=1)"
   ]
  },
  {
   "cell_type": "code",
   "execution_count": 38,
   "id": "292c7cf9-853f-496f-ae64-5e22ae3505b4",
   "metadata": {},
   "outputs": [
    {
     "data": {
      "text/html": [
       "<div>\n",
       "<style scoped>\n",
       "    .dataframe tbody tr th:only-of-type {\n",
       "        vertical-align: middle;\n",
       "    }\n",
       "\n",
       "    .dataframe tbody tr th {\n",
       "        vertical-align: top;\n",
       "    }\n",
       "\n",
       "    .dataframe thead th {\n",
       "        text-align: right;\n",
       "    }\n",
       "</style>\n",
       "<table border=\"1\" class=\"dataframe\">\n",
       "  <thead>\n",
       "    <tr style=\"text-align: right;\">\n",
       "      <th></th>\n",
       "      <th>total_bill</th>\n",
       "      <th>size</th>\n",
       "      <th>sex_Female</th>\n",
       "      <th>smoker_No</th>\n",
       "      <th>day_Fri</th>\n",
       "      <th>day_Sat</th>\n",
       "      <th>day_Sun</th>\n",
       "      <th>time_Dinner</th>\n",
       "    </tr>\n",
       "  </thead>\n",
       "  <tbody>\n",
       "    <tr>\n",
       "      <th>0</th>\n",
       "      <td>16.99</td>\n",
       "      <td>2</td>\n",
       "      <td>True</td>\n",
       "      <td>True</td>\n",
       "      <td>False</td>\n",
       "      <td>False</td>\n",
       "      <td>True</td>\n",
       "      <td>True</td>\n",
       "    </tr>\n",
       "    <tr>\n",
       "      <th>1</th>\n",
       "      <td>10.34</td>\n",
       "      <td>3</td>\n",
       "      <td>False</td>\n",
       "      <td>True</td>\n",
       "      <td>False</td>\n",
       "      <td>False</td>\n",
       "      <td>True</td>\n",
       "      <td>True</td>\n",
       "    </tr>\n",
       "    <tr>\n",
       "      <th>2</th>\n",
       "      <td>21.01</td>\n",
       "      <td>3</td>\n",
       "      <td>False</td>\n",
       "      <td>True</td>\n",
       "      <td>False</td>\n",
       "      <td>False</td>\n",
       "      <td>True</td>\n",
       "      <td>True</td>\n",
       "    </tr>\n",
       "    <tr>\n",
       "      <th>3</th>\n",
       "      <td>23.68</td>\n",
       "      <td>2</td>\n",
       "      <td>False</td>\n",
       "      <td>True</td>\n",
       "      <td>False</td>\n",
       "      <td>False</td>\n",
       "      <td>True</td>\n",
       "      <td>True</td>\n",
       "    </tr>\n",
       "    <tr>\n",
       "      <th>4</th>\n",
       "      <td>24.59</td>\n",
       "      <td>4</td>\n",
       "      <td>True</td>\n",
       "      <td>True</td>\n",
       "      <td>False</td>\n",
       "      <td>False</td>\n",
       "      <td>True</td>\n",
       "      <td>True</td>\n",
       "    </tr>\n",
       "  </tbody>\n",
       "</table>\n",
       "</div>"
      ],
      "text/plain": [
       "   total_bill  size  sex_Female  smoker_No  day_Fri  day_Sat  day_Sun  \\\n",
       "0       16.99     2        True       True    False    False     True   \n",
       "1       10.34     3       False       True    False    False     True   \n",
       "2       21.01     3       False       True    False    False     True   \n",
       "3       23.68     2       False       True    False    False     True   \n",
       "4       24.59     4        True       True    False    False     True   \n",
       "\n",
       "   time_Dinner  \n",
       "0         True  \n",
       "1         True  \n",
       "2         True  \n",
       "3         True  \n",
       "4         True  "
      ]
     },
     "execution_count": 38,
     "metadata": {},
     "output_type": "execute_result"
    }
   ],
   "source": [
    "X_processed.head()"
   ]
  },
  {
   "cell_type": "code",
   "execution_count": 53,
   "id": "b6da8de2-fcb4-4750-a71e-c84a32f115d0",
   "metadata": {},
   "outputs": [],
   "source": [
    "# Split the dataset into training (80%) and testing (20%) data\n",
    "from sklearn.model_selection import train_test_split\n",
    "\n",
    "X_train, X_test, y_train, y_test = train_test_split(X_processed, y, test_size=0.20, random_state=0)"
   ]
  },
  {
   "cell_type": "code",
   "execution_count": 54,
   "id": "53651570-8c5b-4b56-ba1e-42310d084880",
   "metadata": {},
   "outputs": [
    {
     "name": "stdout",
     "output_type": "stream",
     "text": [
      "     total_bill  size  sex_Female  smoker_No  day_Fri  day_Sat  day_Sun  \\\n",
      "7         26.88     4       False       True    False    False     True   \n",
      "83        32.68     2       False      False    False    False    False   \n",
      "176       17.89     2       False      False    False    False     True   \n",
      "106       20.49     2       False      False    False     True    False   \n",
      "156       48.17     6       False       True    False    False     True   \n",
      "..          ...   ...         ...        ...      ...      ...      ...   \n",
      "67         3.07     1        True      False    False     True    False   \n",
      "192       28.44     2       False      False    False    False    False   \n",
      "117       10.65     2        True       True    False    False    False   \n",
      "47        32.40     4       False       True    False    False     True   \n",
      "172        7.25     2       False      False    False    False     True   \n",
      "\n",
      "     time_Dinner  \n",
      "7           True  \n",
      "83         False  \n",
      "176         True  \n",
      "106         True  \n",
      "156         True  \n",
      "..           ...  \n",
      "67          True  \n",
      "192        False  \n",
      "117        False  \n",
      "47          True  \n",
      "172         True  \n",
      "\n",
      "[195 rows x 8 columns]\n"
     ]
    }
   ],
   "source": [
    "print(X_train)"
   ]
  },
  {
   "cell_type": "code",
   "execution_count": 55,
   "id": "cec54741-b5bc-497a-ac23-6526ebdab6c1",
   "metadata": {},
   "outputs": [],
   "source": [
    "from sklearn.preprocessing import StandardScaler\n",
    "\n",
    "sc = StandardScaler()\n",
    "\n",
    "# scaling training set\n",
    "\n",
    "X_train = sc.fit_transform(X_train)\n",
    "\n",
    "X_test = sc.transform(X_test)"
   ]
  },
  {
   "cell_type": "code",
   "execution_count": 57,
   "id": "aa38d0a3-66c5-47e9-8227-b4009faeea90",
   "metadata": {},
   "outputs": [
    {
     "name": "stdout",
     "output_type": "stream",
     "text": [
      "[[-0.28607202  0.43284366 -0.69084928  0.76509206 -0.26726124  1.35132785\n",
      "  -0.67470281  0.61885275]\n",
      " [-0.20932963  1.48790007 -0.69084928 -1.30703226 -0.26726124  1.35132785\n",
      "  -0.67470281  0.61885275]\n",
      " [-0.07777125 -0.62221275 -0.69084928  0.76509206 -0.26726124 -0.74001287\n",
      "   1.48213404  0.61885275]\n",
      " [-1.41966678 -1.67726916  1.44749373  0.76509206 -0.26726124  1.35132785\n",
      "  -0.67470281  0.61885275]\n",
      " [-0.43078625 -0.62221275  1.44749373 -1.30703226  3.74165739 -0.74001287\n",
      "  -0.67470281 -1.61589329]\n",
      " [-1.58411476 -0.62221275  1.44749373 -1.30703226  3.74165739 -0.74001287\n",
      "  -0.67470281  0.61885275]\n",
      " [-0.24989347 -0.62221275 -0.69084928 -1.30703226 -0.26726124  1.35132785\n",
      "  -0.67470281  0.61885275]\n",
      " [ 0.34321559 -0.62221275 -0.69084928 -1.30703226 -0.26726124 -0.74001287\n",
      "   1.48213404  0.61885275]\n",
      " [-0.22467811  0.43284366  1.44749373 -1.30703226 -0.26726124 -0.74001287\n",
      "   1.48213404  0.61885275]\n",
      " [ 1.58424969  1.48790007 -0.69084928 -1.30703226 -0.26726124 -0.74001287\n",
      "   1.48213404  0.61885275]\n",
      " [ 0.55699796 -0.62221275  1.44749373 -1.30703226 -0.26726124  1.35132785\n",
      "  -0.67470281  0.61885275]\n",
      " [ 0.54932372 -0.62221275 -0.69084928 -1.30703226 -0.26726124  1.35132785\n",
      "  -0.67470281  0.61885275]\n",
      " [-0.67197662 -0.62221275 -0.69084928  0.76509206 -0.26726124 -0.74001287\n",
      "   1.48213404  0.61885275]\n",
      " [-0.78928285 -0.62221275  1.44749373 -1.30703226 -0.26726124 -0.74001287\n",
      "  -0.67470281 -1.61589329]\n",
      " [-0.74323741 -0.62221275 -0.69084928 -1.30703226  3.74165739 -0.74001287\n",
      "  -0.67470281 -1.61589329]\n",
      " [ 1.11831374  1.48790007 -0.69084928  0.76509206 -0.26726124 -0.74001287\n",
      "   1.48213404  0.61885275]\n",
      " [-1.29907159 -0.62221275  1.44749373  0.76509206 -0.26726124 -0.74001287\n",
      "  -0.67470281 -1.61589329]\n",
      " [-0.67965086 -0.62221275 -0.69084928  0.76509206 -0.26726124  1.35132785\n",
      "  -0.67470281  0.61885275]\n",
      " [-0.15560996 -0.62221275  1.44749373  0.76509206 -0.26726124 -0.74001287\n",
      "  -0.67470281  0.61885275]\n",
      " [ 0.31800023  0.43284366 -0.69084928 -1.30703226 -0.26726124 -0.74001287\n",
      "   1.48213404  0.61885275]\n",
      " [ 1.08103887  0.43284366 -0.69084928 -1.30703226 -0.26726124  1.35132785\n",
      "  -0.67470281  0.61885275]\n",
      " [ 0.0790025  -0.62221275  1.44749373  0.76509206 -0.26726124  1.35132785\n",
      "  -0.67470281  0.61885275]\n",
      " [-0.46038688 -0.62221275 -0.69084928 -1.30703226 -0.26726124 -0.74001287\n",
      "  -0.67470281 -1.61589329]\n",
      " [-0.56563359 -0.62221275 -0.69084928  0.76509206 -0.26726124 -0.74001287\n",
      "   1.48213404  0.61885275]\n",
      " [-0.73337053 -0.62221275 -0.69084928 -1.30703226 -0.26726124 -0.74001287\n",
      "  -0.67470281 -1.61589329]\n",
      " [-0.41653409 -0.62221275  1.44749373 -1.30703226 -0.26726124 -0.74001287\n",
      "  -0.67470281 -1.61589329]\n",
      " [-0.88137372 -0.62221275 -0.69084928 -1.30703226  3.74165739 -0.74001287\n",
      "  -0.67470281 -1.61589329]\n",
      " [ 1.05253455  3.59801289  1.44749373  0.76509206 -0.26726124 -0.74001287\n",
      "  -0.67470281 -1.61589329]\n",
      " [ 0.55809428  1.48790007 -0.69084928  0.76509206 -0.26726124 -0.74001287\n",
      "   1.48213404  0.61885275]\n",
      " [-0.48560224 -0.62221275  1.44749373  0.76509206 -0.26726124  1.35132785\n",
      "  -0.67470281  0.61885275]\n",
      " [-0.59961951 -0.62221275  1.44749373  0.76509206 -0.26726124  1.35132785\n",
      "  -0.67470281  0.61885275]\n",
      " [-0.84629148 -0.62221275  1.44749373  0.76509206 -0.26726124 -0.74001287\n",
      "  -0.67470281 -1.61589329]\n",
      " [-0.52397344 -0.62221275 -0.69084928  0.76509206 -0.26726124 -0.74001287\n",
      "   1.48213404  0.61885275]\n",
      " [-1.05349594 -0.62221275  1.44749373 -1.30703226 -0.26726124  1.35132785\n",
      "  -0.67470281  0.61885275]\n",
      " [-0.20932963 -0.62221275 -0.69084928  0.76509206 -0.26726124 -0.74001287\n",
      "   1.48213404  0.61885275]\n",
      " [-0.74652637 -0.62221275  1.44749373  0.76509206 -0.26726124 -0.74001287\n",
      "   1.48213404  0.61885275]\n",
      " [-0.35842913  0.43284366  1.44749373  0.76509206 -0.26726124  1.35132785\n",
      "  -0.67470281  0.61885275]\n",
      " [-1.08200025 -0.62221275  1.44749373  0.76509206 -0.26726124 -0.74001287\n",
      "  -0.67470281 -1.61589329]\n",
      " [ 3.08401528  1.48790007 -0.69084928  0.76509206 -0.26726124  1.35132785\n",
      "  -0.67470281  0.61885275]\n",
      " [-0.46257952  0.43284366  1.44749373  0.76509206  3.74165739 -0.74001287\n",
      "  -0.67470281 -1.61589329]\n",
      " [-1.27385623 -1.67726916 -0.69084928 -1.30703226  3.74165739 -0.74001287\n",
      "  -0.67470281 -1.61589329]\n",
      " [-0.85177308 -0.62221275  1.44749373  0.76509206 -0.26726124 -0.74001287\n",
      "  -0.67470281 -1.61589329]\n",
      " [-0.4943728   0.43284366 -0.69084928 -1.30703226 -0.26726124  1.35132785\n",
      "  -0.67470281  0.61885275]\n",
      " [ 1.05801615  2.54295648  1.44749373  0.76509206 -0.26726124 -0.74001287\n",
      "   1.48213404  0.61885275]\n",
      " [-0.81559452 -0.62221275  1.44749373 -1.30703226 -0.26726124  1.35132785\n",
      "  -0.67470281  0.61885275]\n",
      " [-0.35404385  0.43284366  1.44749373  0.76509206 -0.26726124 -0.74001287\n",
      "   1.48213404  0.61885275]\n",
      " [-0.21481123 -0.62221275 -0.69084928  0.76509206 -0.26726124  1.35132785\n",
      "  -0.67470281  0.61885275]\n",
      " [ 0.15135961 -0.62221275 -0.69084928  0.76509206 -0.26726124 -0.74001287\n",
      "   1.48213404  0.61885275]\n",
      " [-0.34308066  0.43284366  1.44749373  0.76509206 -0.26726124  1.35132785\n",
      "  -0.67470281  0.61885275]]\n"
     ]
    }
   ],
   "source": [
    "print(X_test)"
   ]
  },
  {
   "cell_type": "code",
   "execution_count": 59,
   "id": "f507df5c-02c4-4bc3-bf84-ae82e72e3c80",
   "metadata": {},
   "outputs": [],
   "source": [
    "# using LinearRegression in scikit learn\n",
    "\n",
    "from sklearn.linear_model import LinearRegression"
   ]
  },
  {
   "cell_type": "code",
   "execution_count": 61,
   "id": "3c7ceb70-9923-46be-a970-5643c4ddf9b0",
   "metadata": {},
   "outputs": [],
   "source": [
    "# import metrics for MAE, MSE, RMSE\n",
    "\n",
    "from sklearn import metrics"
   ]
  },
  {
   "cell_type": "code",
   "execution_count": 62,
   "id": "252f3fa9-8b5a-464c-a13f-0b3854267290",
   "metadata": {},
   "outputs": [],
   "source": [
    "lr = LinearRegression()\n",
    "lr_regressor = lr.fit(X_train, y_train)\n",
    "y_pred = lr_regressor.predict(X_test)"
   ]
  },
  {
   "cell_type": "code",
   "execution_count": 63,
   "id": "b22966ec-48bf-4a5f-bc29-dcd7748151b8",
   "metadata": {},
   "outputs": [
    {
     "name": "stdout",
     "output_type": "stream",
     "text": [
      "MAE:  0.7080218832979825\n",
      "MSE:  0.8939195221609609\n",
      "MAE:  0.9454731736865731\n"
     ]
    }
   ],
   "source": [
    "print('MAE: ', metrics.mean_absolute_error(y_test, y_pred))\n",
    "print('MSE: ', metrics.mean_squared_error(y_test, y_pred))\n",
    "print('RMSE: ', np.sqrt(metrics.mean_squared_error(y_test, y_pred)))"
   ]
  },
  {
   "cell_type": "code",
   "execution_count": 64,
   "id": "4ee41c72-388c-4565-b590-34ba4f766175",
   "metadata": {},
   "outputs": [],
   "source": [
    "# using LinearRegression in scikit learn\n",
    "\n",
    "from sklearn.neighbors import KNeighborsRegressor"
   ]
  },
  {
   "cell_type": "code",
   "execution_count": 82,
   "id": "68369591-76c8-42ff-806d-ef549236e1f8",
   "metadata": {},
   "outputs": [],
   "source": [
    "knn = KNeighborsRegressor(n_neighbors=5)\n",
    "knn_regressor = knn.fit(X_train, y_train)"
   ]
  },
  {
   "cell_type": "code",
   "execution_count": 83,
   "id": "8dc02b36-7df9-44a8-abdb-37fe8ad29c03",
   "metadata": {},
   "outputs": [],
   "source": [
    "y_pred_knn = knn_regressor.predict(X_test)"
   ]
  },
  {
   "cell_type": "code",
   "execution_count": 84,
   "id": "031366ad-274b-4dbd-9d81-7334fabb5cbe",
   "metadata": {},
   "outputs": [
    {
     "name": "stdout",
     "output_type": "stream",
     "text": [
      "MAE:  0.7513877551020406\n",
      "MSE:  0.9462902040816326\n",
      "MAE:  0.9727744877830794\n"
     ]
    }
   ],
   "source": [
    "print('MAE: ', metrics.mean_absolute_error(y_test, y_pred_knn))\n",
    "print('MSE: ', metrics.mean_squared_error(y_test, y_pred_knn))\n",
    "print('RMSE: ', np.sqrt(metrics.mean_squared_error(y_test, y_pred_knn)))"
   ]
  },
  {
   "cell_type": "code",
   "execution_count": null,
   "id": "2259e627-5785-4592-8a1f-036ed7e01046",
   "metadata": {},
   "outputs": [],
   "source": []
  }
 ],
 "metadata": {
  "kernelspec": {
   "display_name": "Python 3 (ipykernel)",
   "language": "python",
   "name": "python3"
  },
  "language_info": {
   "codemirror_mode": {
    "name": "ipython",
    "version": 3
   },
   "file_extension": ".py",
   "mimetype": "text/x-python",
   "name": "python",
   "nbconvert_exporter": "python",
   "pygments_lexer": "ipython3",
   "version": "3.10.12"
  }
 },
 "nbformat": 4,
 "nbformat_minor": 5
}
